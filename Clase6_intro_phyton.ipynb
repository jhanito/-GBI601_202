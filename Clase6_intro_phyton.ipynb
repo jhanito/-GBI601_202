{
  "nbformat": 4,
  "nbformat_minor": 0,
  "metadata": {
    "colab": {
      "name": "Untitled3.ipynb",
      "provenance": [],
      "authorship_tag": "ABX9TyP6OMV8g557HlNcrFOb93pV",
      "include_colab_link": true
    },
    "kernelspec": {
      "name": "python3",
      "display_name": "Python 3"
    },
    "language_info": {
      "name": "python"
    }
  },
  "cells": [
    {
      "cell_type": "markdown",
      "metadata": {
        "id": "view-in-github",
        "colab_type": "text"
      },
      "source": [
        "<a href=\"https://colab.research.google.com/github/jhanito/-GBI601_202/blob/main/Clase6_intro_phyton.ipynb\" target=\"_parent\"><img src=\"https://colab.research.google.com/assets/colab-badge.svg\" alt=\"Open In Colab\"/></a>"
      ]
    },
    {
      "cell_type": "code",
      "execution_count": null,
      "metadata": {
        "id": "l5DmDV5mwpkp"
      },
      "outputs": [],
      "source": [
        ""
      ]
    },
    {
      "cell_type": "markdown",
      "source": [
        "# BIOINFORMÁTICA\n",
        "\n",
        "## CLASE6: Introducción a Python\n",
        "\n",
        "En esta clase vamos a revisar los siguientes contenidos\n",
        "\n",
        "1. Historia de PYthon\n",
        "2. Tipos de datos\n",
        "3. Operaciones con números\n",
        "4. Operaciones con texto.\n",
        "\n",
        "1.HISTORIA PYTHON \n",
        "\n",
        "La historia de python se puede leer en https://www.python.org/.\n",
        "\n",
        "2.TIPOS DE DATOS \n",
        "\n",
        "-Numéricos:enteros(integer,int),decimales(double),complejos(complex).\n",
        "-Lógicos:Verdadero(TRUE,T),Falso(FALSE,F)\n"
      ],
      "metadata": {
        "id": "vTlEu7nayV5M"
      }
    },
    {
      "cell_type": "code",
      "source": [
        "gen1_r = 1.5\n",
        "gen1_h = 1.7\n",
        "dif_gen1 =gen1_r - gen1_h\n",
        "ratio_gen1 = gen1_r /gen1_h"
      ],
      "metadata": {
        "id": "JVk9eMqF2eYI"
      },
      "execution_count": 6,
      "outputs": []
    },
    {
      "cell_type": "code",
      "source": [
        "print(\"gen1_r:\",gen1_r)\n",
        "print(gen1_h)\n",
        "print(dif_gen1) \n",
        "print(ratio_gen1)"
      ],
      "metadata": {
        "colab": {
          "base_uri": "https://localhost:8080/"
        },
        "id": "dHcq2zKd6TZG",
        "outputId": "69e19863-ed2e-41a4-efc7-42173ac662ba"
      },
      "execution_count": 11,
      "outputs": [
        {
          "output_type": "stream",
          "name": "stdout",
          "text": [
            "gen1_r: 1.5\n",
            "1.7\n",
            "-0.19999999999999996\n",
            "0.8823529411764706\n"
          ]
        }
      ]
    },
    {
      "cell_type": "code",
      "source": [
        "saludo = \"Hola con todos,que bueno que no hay exámen\"\n",
        "saludo.upper()"
      ],
      "metadata": {
        "colab": {
          "base_uri": "https://localhost:8080/",
          "height": 35
        },
        "id": "zi-C8-ev75xo",
        "outputId": "47721043-6be4-4774-ae21-e1073eedcc37"
      },
      "execution_count": 18,
      "outputs": [
        {
          "output_type": "execute_result",
          "data": {
            "text/plain": [
              "'HOLA CON TODOS,QUE BUENO QUE NO HAY EXÁMEN'"
            ],
            "application/vnd.google.colaboratory.intrinsic+json": {
              "type": "string"
            }
          },
          "metadata": {},
          "execution_count": 18
        }
      ]
    },
    {
      "cell_type": "code",
      "source": [
        "# En esta parte vamos a utilizar el uso combinado de funciones\n",
        "total = len(saludo)\n",
        "char_a = saludo.count(\"a\")\n",
        "ratio_a = 100*char_a / total\n",
        "print(\"porcentaje de a:\", ratio_a)"
      ],
      "metadata": {
        "colab": {
          "base_uri": "https://localhost:8080/"
        },
        "id": "fvwZV7c0_BCm",
        "outputId": "b18ac43a-d61b-48b0-acc0-984d1e10ff2e"
      },
      "execution_count": 23,
      "outputs": [
        {
          "output_type": "stream",
          "name": "stdout",
          "text": [
            "porcentaje de a: 4.761904761904762\n"
          ]
        }
      ]
    },
    {
      "cell_type": "code",
      "source": [
        "### Porcentaje de gc\n",
        "\n",
        "Calcular el porcentaje de contenido de nucleótidos G y C en la siguiente secuencia.\n",
        " "
      ],
      "metadata": {
        "id": "iptcELPo_Zuj"
      },
      "execution_count": null,
      "outputs": []
    },
    {
      "cell_type": "code",
      "source": [
        "p53_1 = \"TTCCTGGNCTGTAGGTAGCGACTACAGTTAGGGGGCACCTAGCATTCAGGCCCTCATCCTCCTCCTTCCC\"\n",
        "total = len(p53_1)\n",
        "char_a = p53_1.count(\"p53_1\")\n",
        "ratio_a = 100*char_a / total\n",
        "print(\"porcentaje de p53_1:\",ratio_a)\n",
        "\n",
        "\n"
      ],
      "metadata": {
        "colab": {
          "base_uri": "https://localhost:8080/"
        },
        "id": "EZbiy4u4BhaZ",
        "outputId": "a47dc8e4-9cca-4836-8b6c-6aa752bc37c0"
      },
      "execution_count": 34,
      "outputs": [
        {
          "output_type": "stream",
          "name": "stdout",
          "text": [
            "porcentaje de p53_1: 0.0\n"
          ]
        }
      ]
    },
    {
      "cell_type": "code",
      "source": [
        "p53_1 = \"TTCCTGGNCTGTAGGTAGCGACTACAGTTAGGGGGCACCTAGCATTCAGGCCCTCATCCTCCTCCTTCCC\"\n",
        "percent_GC = 100*(p53_1.count(\"G\") + p53_1.count(\"C\"))/len(p53_1) \n",
        "print(\"Porcentaje gc en p53_1:\" , round(percent_GC,3))"
      ],
      "metadata": {
        "colab": {
          "base_uri": "https://localhost:8080/"
        },
        "id": "xb4CZNYVC8eX",
        "outputId": "7032ec0d-9e25-4d10-8833-19fba121c321"
      },
      "execution_count": 39,
      "outputs": [
        {
          "output_type": "stream",
          "name": "stdout",
          "text": [
            "Porcentaje gc en p53_1: 57.143\n"
          ]
        }
      ]
    },
    {
      "cell_type": "code",
      "source": [
        "# Subconjunto\n",
        "print(p53_1)\n",
        "fi = p53_1.find(\"TAC\")\n",
        "ff1 = p53_1.find(\"ATT\")\n",
        "ff2 = p53_1.find(\"ATC\")\n",
        "ff3 = p53_1.find(\"ACT\")\n",
        "\n",
        "p53_1[3:6]"
      ],
      "metadata": {
        "colab": {
          "base_uri": "https://localhost:8080/",
          "height": 53
        },
        "id": "O0y3ibhlCOXm",
        "outputId": "f2ebc531-d529-4cf1-a1e8-60b2f450d439"
      },
      "execution_count": 55,
      "outputs": [
        {
          "output_type": "stream",
          "name": "stdout",
          "text": [
            "TTCCTGGNCTGTAGGTAGCGACTACAGTTAGGGGGCACCTAGCATTCAGGCCCTCATCCTCCTCCTTCCC\n"
          ]
        },
        {
          "output_type": "execute_result",
          "data": {
            "text/plain": [
              "'CTG'"
            ],
            "application/vnd.google.colaboratory.intrinsic+json": {
              "type": "string"
            }
          },
          "metadata": {},
          "execution_count": 55
        }
      ]
    },
    {
      "cell_type": "code",
      "source": [
        "#Sacar la parte de la secuencia\n",
        "mRNA_f1 = p53_1[fi:ff1+3]\n",
        "mRNA_f1"
      ],
      "metadata": {
        "colab": {
          "base_uri": "https://localhost:8080/",
          "height": 35
        },
        "id": "RFvNFWJ-QVKW",
        "outputId": "0f4b2cc6-cb02-4286-a114-79014786de23"
      },
      "execution_count": 54,
      "outputs": [
        {
          "output_type": "execute_result",
          "data": {
            "text/plain": [
              "'TACAGTTAGGGGGCACCTAGCATT'"
            ],
            "application/vnd.google.colaboratory.intrinsic+json": {
              "type": "string"
            }
          },
          "metadata": {},
          "execution_count": 54
        }
      ]
    },
    {
      "cell_type": "code",
      "source": [
        "#Cadena complementaria\n",
        "print(saludo)\n",
        "saludo.replace(\"x\",\"e\")"
      ],
      "metadata": {
        "colab": {
          "base_uri": "https://localhost:8080/",
          "height": 53
        },
        "id": "c5purJQuSESr",
        "outputId": "31b32804-8247-4896-b684-d483794b570f"
      },
      "execution_count": 48,
      "outputs": [
        {
          "output_type": "stream",
          "name": "stdout",
          "text": [
            "Hola con todos,que bueno que no hay exámen\n"
          ]
        },
        {
          "output_type": "execute_result",
          "data": {
            "text/plain": [
              "'Hola con todos,que bueno que no hay eeámen'"
            ],
            "application/vnd.google.colaboratory.intrinsic+json": {
              "type": "string"
            }
          },
          "metadata": {},
          "execution_count": 48
        }
      ]
    },
    {
      "cell_type": "code",
      "source": [
        "p53_a = p53_1.replace(\"A\",\"t\")\n",
        "p53_c = p53_a.replace(\"C\",\"g\")\n",
        "p53_t = p53_t.replace(\"T\",\"a\")\n",
        "P53_g = p53_g.replace(\"G\",\"C\")\n",
        "p53_g_complementario = p53_g.upper() \n",
        "\n",
        "print(\"cadena normal: \",p53_1)\n",
        "\n",
        "print(\"cadena complementaria: \",p53_g_complementario)\n",
        "\n",
        "p53_comple_reverse =p53_g_complementario[::-1]\n",
        "print(\"cadena complementaria reverse: \", p53_comple_reverse)"
      ],
      "metadata": {
        "colab": {
          "base_uri": "https://localhost:8080/"
        },
        "id": "Gj4BItbsSnqW",
        "outputId": "c020ef3a-e58d-4902-ba96-314f30441154"
      },
      "execution_count": 59,
      "outputs": [
        {
          "output_type": "stream",
          "name": "stdout",
          "text": [
            "cadena normal:  TTCCTGGNCTGTAGGTAGCGACTACAGTTAGGGGGCACCTAGCATTCAGGCCCTCATCCTCCTCCTTCCC\n",
            "cadena complementaria:  AACCACCNCACATCCATCCCTCATCTCAATCCCCCCTCCATCCTAACTCCCCCACTACCACCACCAACCC\n",
            "cadena complementaria reverse:  CCCAACCACCACCATCACCCCCTCAATCCTACCTCCCCCCTAACTCTACTCCCTACCTACACNCCACCAA\n"
          ]
        }
      ]
    },
    {
      "cell_type": "code",
      "source": [
        ""
      ],
      "metadata": {
        "id": "S3bTgHoZcCfe"
      },
      "execution_count": null,
      "outputs": []
    },
    {
      "cell_type": "code",
      "source": [
        ""
      ],
      "metadata": {
        "id": "q3Jpp7tNWmXa"
      },
      "execution_count": null,
      "outputs": []
    }
  ]
}